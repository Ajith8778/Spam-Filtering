{
 "cells": [
  {
   "cell_type": "code",
   "execution_count": null,
   "id": "d680e1c5",
   "metadata": {},
   "outputs": [],
   "source": [
    "import numpy as np # scientific computation\n",
    "import pandas as pd # Loading dataset file\n",
    "import matplotlip.pyplot as plt # visulization\n",
    "import nltk  # preprocessing our text \n",
    "from nltk.corpus import stopwords # removing all the stop words \n",
    "from nltk.stem.porter import Portertemmer # stemming"
   ]
  }
 ],
 "metadata": {
  "kernelspec": {
   "display_name": "Python 3 (ipykernel)",
   "language": "python",
   "name": "python3"
  },
  "language_info": {
   "codemirror_mode": {
    "name": "ipython",
    "version": 3
   },
   "file_extension": ".py",
   "mimetype": "text/x-python",
   "name": "python",
   "nbconvert_exporter": "python",
   "pygments_lexer": "ipython3",
   "version": "3.10.9"
  }
 },
 "nbformat": 4,
 "nbformat_minor": 5
}
